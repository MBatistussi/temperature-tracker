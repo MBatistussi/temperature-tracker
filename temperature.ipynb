{
 "cells": [
  {
   "cell_type": "code",
   "execution_count": 64,
   "metadata": {
    "collapsed": false
   },
   "outputs": [
    {
     "name": "stdout",
     "output_type": "stream",
     "text": [
      "Collecting geocoder\n",
      "  Downloading geocoder-1.22.6-py2.py3-none-any.whl (69kB)\n",
      "Collecting ratelim (from geocoder)\n",
      "  Downloading ratelim-0.1.6-py2.py3-none-any.whl\n",
      "Requirement already satisfied: click in c:\\users\\paulalsouza\\appdata\\local\\continuum\\anaconda3\\lib\\site-packages (from geocoder)\n",
      "Requirement already satisfied: six in c:\\users\\paulalsouza\\appdata\\local\\continuum\\anaconda3\\lib\\site-packages (from geocoder)\n",
      "Requirement already satisfied: requests in c:\\users\\paulalsouza\\appdata\\local\\continuum\\anaconda3\\lib\\site-packages (from geocoder)\n",
      "Requirement already satisfied: decorator in c:\\users\\paulalsouza\\appdata\\local\\continuum\\anaconda3\\lib\\site-packages (from ratelim->geocoder)\n",
      "Installing collected packages: ratelim, geocoder\n",
      "Successfully installed geocoder-1.22.6 ratelim-0.1.6\n",
      "Collecting tqdm\n",
      "  Downloading tqdm-4.14.0-py2.py3-none-any.whl (46kB)\n",
      "Installing collected packages: tqdm\n",
      "Successfully installed tqdm-4.14.0\n",
      "Collecting folium\n",
      "  Downloading folium-0.3.0-py3-none-any.whl (71kB)\n",
      "Requirement already satisfied: Jinja2 in c:\\users\\paulalsouza\\appdata\\local\\continuum\\anaconda3\\lib\\site-packages (from folium)\n",
      "Collecting branca (from folium)\n",
      "  Downloading branca-0.2.0-py3-none-any.whl\n",
      "Requirement already satisfied: six in c:\\users\\paulalsouza\\appdata\\local\\continuum\\anaconda3\\lib\\site-packages (from folium)\n",
      "Requirement already satisfied: MarkupSafe>=0.23 in c:\\users\\paulalsouza\\appdata\\local\\continuum\\anaconda3\\lib\\site-packages (from Jinja2->folium)\n",
      "Installing collected packages: branca, folium\n",
      "Successfully installed branca-0.2.0 folium-0.3.0\n"
     ]
    }
   ],
   "source": [
    "!pip install geocoder\n",
    "!pip install tqdm\n",
    "!pip install folium"
   ]
  },
  {
   "cell_type": "code",
   "execution_count": 65,
   "metadata": {
    "collapsed": false
   },
   "outputs": [
    {
     "data": {
      "text/plain": [
       "200"
      ]
     },
     "execution_count": 65,
     "metadata": {},
     "output_type": "execute_result"
    }
   ],
   "source": [
    "#A biblioteca faz uma solicitação GET ao servidor, que fará o download dos conteúdos HTML da página solicitada para nós. \n",
    "import requests\n",
    "from bs4 import BeautifulSoup\n",
    "\n",
    "page = requests.get(\"https://weather.com/weather/tenday/l/BRXX0158:1:BR\") #Natal\n",
    "\n",
    "#Instância da classe BeautifulSoup\n",
    "soup = BeautifulSoup(page.content, 'html.parser')\n",
    "\n",
    "#Exibe todo o HTML da página\n",
    "#NÃO RODAR POIS O HTML É MUITO GRANDE E DEMORA\n",
    "#print(soup.prettify())\n",
    "\n",
    "#Um status_code com resultado 200 significa que a página foi baixada com sucesso\n",
    "page.status_code"
   ]
  },
  {
   "cell_type": "code",
   "execution_count": 72,
   "metadata": {
    "collapsed": false
   },
   "outputs": [
    {
     "ename": "IndexError",
     "evalue": "pop from empty list",
     "output_type": "error",
     "traceback": [
      "\u001b[0;31m---------------------------------------------------------------------------\u001b[0m",
      "\u001b[0;31mIndexError\u001b[0m                                Traceback (most recent call last)",
      "\u001b[0;32m<ipython-input-72-b0b6e7422316>\u001b[0m in \u001b[0;36m<module>\u001b[0;34m()\u001b[0m\n\u001b[1;32m      1\u001b[0m \u001b[1;31m#Encontra todas as instâncias\u001b[0m\u001b[1;33m\u001b[0m\u001b[1;33m\u001b[0m\u001b[0m\n\u001b[1;32m      2\u001b[0m \u001b[0mten_days\u001b[0m \u001b[1;33m=\u001b[0m \u001b[0msoup\u001b[0m\u001b[1;33m.\u001b[0m\u001b[0mfind_all\u001b[0m\u001b[1;33m(\u001b[0m\u001b[1;34m\"tr\"\u001b[0m\u001b[1;33m,\u001b[0m \u001b[0mclass_\u001b[0m\u001b[1;33m=\u001b[0m\u001b[1;34m\"clickable\"\u001b[0m\u001b[1;33m)\u001b[0m\u001b[1;33m\u001b[0m\u001b[0m\n\u001b[0;32m----> 3\u001b[0;31m \u001b[0mten_days\u001b[0m\u001b[1;33m.\u001b[0m\u001b[0mpop\u001b[0m\u001b[1;33m(\u001b[0m\u001b[1;36m0\u001b[0m\u001b[1;33m)\u001b[0m\u001b[1;33m\u001b[0m\u001b[0m\n\u001b[0m\u001b[1;32m      4\u001b[0m \u001b[0mdays_max\u001b[0m \u001b[1;33m=\u001b[0m \u001b[1;33m[\u001b[0m\u001b[1;33m]\u001b[0m\u001b[1;33m\u001b[0m\u001b[0m\n\u001b[1;32m      5\u001b[0m \u001b[0mdays_min\u001b[0m \u001b[1;33m=\u001b[0m \u001b[1;33m[\u001b[0m\u001b[1;33m]\u001b[0m\u001b[1;33m\u001b[0m\u001b[0m\n",
      "\u001b[0;31mIndexError\u001b[0m: pop from empty list"
     ]
    }
   ],
   "source": [
    "#Encontra todas as instâncias\n",
    "ten_days = soup.find_all(\"tr\", class_=\"clickable\")\n",
    "ten_days.pop(0)\n",
    "days_max = []\n",
    "days_min = []\n",
    "precips = []\n",
    "humidity = []\n",
    "\n",
    "for day in ten_days:\n",
    "    days_max.append(int(day.find(\"td\", class_=\"temp\").find_all(\"span\")[0].get_text().encode('ascii', 'ignore')))\n",
    "    days_min.append(int(day.find(\"td\", class_=\"temp\").find_all(\"span\")[2].get_text().encode('ascii', 'ignore')))\n",
    "    precips.append(int(day.find(\"td\", class_=\"precip\").find_all(\"span\")[2].get_text().encode('ascii', 'ignore')[:-1]))\n",
    "    humidity.append(int(day.find(\"td\", class_=\"humidity\").find_all(\"span\")[0].get_text().encode('ascii', 'ignore')[:-1]))\n",
    "for i in range(14):\n",
    "    print(str(((days_max[i]-32)/1.8))+\"ºC \" + str(((days_min[i]-32)/1.8))+\"ºC \"+str(precips[i])+\"% \"+str(humidity[i])+\"%\")"
   ]
  },
  {
   "cell_type": "code",
   "execution_count": 73,
   "metadata": {
    "collapsed": false,
    "scrolled": true
   },
   "outputs": [
    {
     "data": {
      "text/html": [
       "<div>\n",
       "<table border=\"1\" class=\"dataframe\">\n",
       "  <thead>\n",
       "    <tr style=\"text-align: right;\">\n",
       "      <th></th>\n",
       "      <th>humidity</th>\n",
       "      <th>max</th>\n",
       "      <th>min</th>\n",
       "      <th>precips</th>\n",
       "    </tr>\n",
       "  </thead>\n",
       "  <tbody>\n",
       "  </tbody>\n",
       "</table>\n",
       "</div>"
      ],
      "text/plain": [
       "Empty DataFrame\n",
       "Columns: [humidity, max, min, precips]\n",
       "Index: []"
      ]
     },
     "execution_count": 73,
     "metadata": {},
     "output_type": "execute_result"
    }
   ],
   "source": [
    "import pandas as pd\n",
    "\n",
    "#Cada lista de itens que temos é passada como parte de um dicionário\n",
    "#Cada chave do dicionário vai se tornar uma coluna no DataFrame, e cada lista se tornará os valores da coluna.\n",
    "\n",
    "\n",
    "weather = pd.DataFrame({\n",
    "        \"max\": days_max, \n",
    "        \"min\": days_min, \n",
    "        \"precips\": precips, \n",
    "        \"humidity\":humidity\n",
    "    })\n",
    "weather"
   ]
  },
  {
   "cell_type": "code",
   "execution_count": 74,
   "metadata": {
    "collapsed": false
   },
   "outputs": [
    {
     "data": {
      "text/html": [
       "<div>\n",
       "<table border=\"1\" class=\"dataframe\">\n",
       "  <thead>\n",
       "    <tr style=\"text-align: right;\">\n",
       "      <th></th>\n",
       "      <th>humidity</th>\n",
       "      <th>max</th>\n",
       "      <th>min</th>\n",
       "      <th>precips</th>\n",
       "    </tr>\n",
       "  </thead>\n",
       "  <tbody>\n",
       "  </tbody>\n",
       "</table>\n",
       "</div>"
      ],
      "text/plain": [
       "Empty DataFrame\n",
       "Columns: [humidity, max, min, precips]\n",
       "Index: []"
      ]
     },
     "execution_count": 74,
     "metadata": {},
     "output_type": "execute_result"
    }
   ],
   "source": [
    "weather.head()"
   ]
  },
  {
   "cell_type": "code",
   "execution_count": 75,
   "metadata": {
    "collapsed": false
   },
   "outputs": [
    {
     "data": {
      "text/plain": [
       "Index(['humidity', 'max', 'min', 'precips'], dtype='object')"
      ]
     },
     "execution_count": 75,
     "metadata": {},
     "output_type": "execute_result"
    }
   ],
   "source": [
    "weather.columns"
   ]
  },
  {
   "cell_type": "code",
   "execution_count": 76,
   "metadata": {
    "collapsed": false
   },
   "outputs": [
    {
     "data": {
      "text/plain": [
       "(0, 4)"
      ]
     },
     "execution_count": 76,
     "metadata": {},
     "output_type": "execute_result"
    }
   ],
   "source": [
    "weather.shape"
   ]
  },
  {
   "cell_type": "code",
   "execution_count": 77,
   "metadata": {
    "collapsed": false
   },
   "outputs": [
    {
     "data": {
      "text/plain": [
       "<matplotlib.axes._subplots.AxesSubplot at 0x124a19f46d8>"
      ]
     },
     "execution_count": 77,
     "metadata": {},
     "output_type": "execute_result"
    }
   ],
   "source": [
    "df[\"humidity\"].value_counts().sort_index().plot.pie(autopct=\"%1.0f%%\", label=\"Desempenho Geral\", colors=[\"green\", \"red\"])"
   ]
  },
  {
   "cell_type": "code",
   "execution_count": null,
   "metadata": {
    "collapsed": false
   },
   "outputs": [],
   "source": [
    "# Create a Pandas dataframe from the data.\n",
    "'''df = pd.DataFrame({\n",
    "        \"max\": days_max, \n",
    "        \"min\": days_min, \n",
    "        \"precips\": precips, \n",
    "        \"humidity\":humidity})\n",
    "\n",
    "# Create a Pandas Excel writer using XlsxWriter as the engine.\n",
    "writer = pd.ExcelWriter('temperature.xlsx', engine='xlsxwriter')\n",
    "\n",
    "# Convert the dataframe to an XlsxWriter Excel object.\n",
    "df.to_excel(writer, sheet_name='Sheet1')\n",
    "\n",
    "# Get the xlsxwriter objects from the dataframe writer object.\n",
    "workbook  = writer.book\n",
    "worksheet = writer.sheets['Sheet1']\n",
    "'''"
   ]
  },
  {
   "cell_type": "code",
   "execution_count": 78,
   "metadata": {
    "collapsed": false
   },
   "outputs": [
    {
     "data": {
      "text/plain": [
       "Series([], Name: precips, dtype: float64)"
      ]
     },
     "execution_count": 78,
     "metadata": {},
     "output_type": "execute_result"
    }
   ],
   "source": [
    "temp_nums = weather[\"precips\"]\n",
    "#weather[\"temp_num\"] = temp_nums.astype('double')\n",
    "temp_nums\n"
   ]
  },
  {
   "cell_type": "code",
   "execution_count": 54,
   "metadata": {
    "collapsed": false
   },
   "outputs": [
    {
     "data": {
      "text/plain": [
       "39.285714285714285"
      ]
     },
     "execution_count": 54,
     "metadata": {},
     "output_type": "execute_result"
    }
   ],
   "source": [
    "weather[\"precips\"].mean()"
   ]
  },
  {
   "cell_type": "code",
   "execution_count": null,
   "metadata": {
    "collapsed": false
   },
   "outputs": [],
   "source": []
  },
  {
   "cell_type": "code",
   "execution_count": null,
   "metadata": {
    "collapsed": true
   },
   "outputs": [],
   "source": []
  },
  {
   "cell_type": "code",
   "execution_count": null,
   "metadata": {
    "collapsed": true
   },
   "outputs": [],
   "source": []
  },
  {
   "cell_type": "code",
   "execution_count": null,
   "metadata": {
    "collapsed": true
   },
   "outputs": [],
   "source": []
  }
 ],
 "metadata": {
  "kernelspec": {
   "display_name": "Python 3",
   "language": "python",
   "name": "python3"
  },
  "language_info": {
   "codemirror_mode": {
    "name": "ipython",
    "version": 3
   },
   "file_extension": ".py",
   "mimetype": "text/x-python",
   "name": "python",
   "nbconvert_exporter": "python",
   "pygments_lexer": "ipython3",
   "version": "3.6.0"
  }
 },
 "nbformat": 4,
 "nbformat_minor": 2
}
