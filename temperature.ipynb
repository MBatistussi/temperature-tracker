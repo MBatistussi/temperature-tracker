{
 "cells": [
  {
   "cell_type": "code",
   "execution_count": 9,
   "metadata": {
    "collapsed": false
   },
   "outputs": [
    {
     "data": {
      "text/plain": [
       "200"
      ]
     },
     "execution_count": 9,
     "metadata": {},
     "output_type": "execute_result"
    }
   ],
   "source": [
    "#A biblioteca faz uma solicitação GET ao servidor, que fará o download dos conteúdos HTML da página solicitada para nós. \n",
    "import requests\n",
    "from bs4 import BeautifulSoup\n",
    "\n",
    "page = requests.get(\"https://weather.com/weather/tenday/l/BRXX0158:1:BR\") #Natal\n",
    "\n",
    "#Instância da classe BeautifulSoup\n",
    "soup = BeautifulSoup(page.content, 'html.parser')\n",
    "\n",
    "#Exibe todo o HTML da página\n",
    "#NÃO RODAR POIS O HTML É MUITO GRANDE E DEMORA\n",
    "#print(soup.prettify())\n",
    "\n",
    "#Um status_code com resultado 200 significa que a página foi baixada com sucesso\n",
    "page.status_code"
   ]
  },
  {
   "cell_type": "code",
   "execution_count": 53,
   "metadata": {
    "collapsed": false
   },
   "outputs": [
    {
     "name": "stdout",
     "output_type": "stream",
     "text": [
      "28.88888888888889ºC 23.333333333333332ºC 50% 76%\n",
      "28.333333333333332ºC 22.22222222222222ºC 20% 74%\n",
      "28.88888888888889ºC 22.22222222222222ºC 20% 75%\n",
      "28.88888888888889ºC 22.77777777777778ºC 20% 74%\n",
      "28.88888888888889ºC 22.77777777777778ºC 20% 75%\n",
      "28.88888888888889ºC 22.77777777777778ºC 20% 73%\n",
      "28.333333333333332ºC 22.77777777777778ºC 50% 74%\n",
      "28.333333333333332ºC 22.77777777777778ºC 60% 77%\n",
      "28.333333333333332ºC 22.77777777777778ºC 60% 77%\n",
      "28.333333333333332ºC 22.77777777777778ºC 50% 76%\n",
      "28.88888888888889ºC 22.22222222222222ºC 50% 76%\n",
      "28.88888888888889ºC 22.22222222222222ºC 50% 74%\n",
      "28.88888888888889ºC 22.77777777777778ºC 50% 75%\n",
      "28.88888888888889ºC 22.77777777777778ºC 80% 77%\n"
     ]
    }
   ],
   "source": [
    "#Encontra todas as instâncias\n",
    "ten_days = soup.find_all(\"tr\", class_=\"clickable\")\n",
    "ten_days.pop(0)\n",
    "days_max = []\n",
    "days_min = []\n",
    "precips = []\n",
    "humidity = []\n",
    "\n",
    "for day in ten_days:\n",
    "    days_max.append(int(day.find(\"td\", class_=\"temp\").find_all(\"span\")[0].get_text().encode('ascii', 'ignore')))\n",
    "    days_min.append(int(day.find(\"td\", class_=\"temp\").find_all(\"span\")[2].get_text().encode('ascii', 'ignore')))\n",
    "    precips.append(int(day.find(\"td\", class_=\"precip\").find_all(\"span\")[2].get_text().encode('ascii', 'ignore')[:-1]))\n",
    "    humidity.append(int(day.find(\"td\", class_=\"humidity\").find_all(\"span\")[0].get_text().encode('ascii', 'ignore')[:-1]))\n",
    "for i in range(14):\n",
    "    print(str(((days_max[i]-32)/1.8))+\"ºC \" + str(((days_min[i]-32)/1.8))+\"ºC \"+str(precips[i])+\"% \"+str(humidity[i])+\"%\")"
   ]
  },
  {
   "cell_type": "code",
   "execution_count": 54,
   "metadata": {
    "collapsed": false,
    "scrolled": true
   },
   "outputs": [],
   "source": [
    "#for i in range(14):\n",
    " #   print(((days_max[i]-32)/1.8))"
   ]
  },
  {
   "cell_type": "code",
   "execution_count": 55,
   "metadata": {
    "collapsed": false
   },
   "outputs": [
    {
     "data": {
      "text/html": [
       "<div>\n",
       "<table border=\"1\" class=\"dataframe\">\n",
       "  <thead>\n",
       "    <tr style=\"text-align: right;\">\n",
       "      <th></th>\n",
       "      <th>humidity</th>\n",
       "      <th>max</th>\n",
       "      <th>min</th>\n",
       "      <th>precips</th>\n",
       "    </tr>\n",
       "  </thead>\n",
       "  <tbody>\n",
       "    <tr>\n",
       "      <th>0</th>\n",
       "      <td>76</td>\n",
       "      <td>84</td>\n",
       "      <td>74</td>\n",
       "      <td>50</td>\n",
       "    </tr>\n",
       "    <tr>\n",
       "      <th>1</th>\n",
       "      <td>74</td>\n",
       "      <td>83</td>\n",
       "      <td>72</td>\n",
       "      <td>20</td>\n",
       "    </tr>\n",
       "    <tr>\n",
       "      <th>2</th>\n",
       "      <td>75</td>\n",
       "      <td>84</td>\n",
       "      <td>72</td>\n",
       "      <td>20</td>\n",
       "    </tr>\n",
       "    <tr>\n",
       "      <th>3</th>\n",
       "      <td>74</td>\n",
       "      <td>84</td>\n",
       "      <td>73</td>\n",
       "      <td>20</td>\n",
       "    </tr>\n",
       "    <tr>\n",
       "      <th>4</th>\n",
       "      <td>75</td>\n",
       "      <td>84</td>\n",
       "      <td>73</td>\n",
       "      <td>20</td>\n",
       "    </tr>\n",
       "    <tr>\n",
       "      <th>5</th>\n",
       "      <td>73</td>\n",
       "      <td>84</td>\n",
       "      <td>73</td>\n",
       "      <td>20</td>\n",
       "    </tr>\n",
       "    <tr>\n",
       "      <th>6</th>\n",
       "      <td>74</td>\n",
       "      <td>83</td>\n",
       "      <td>73</td>\n",
       "      <td>50</td>\n",
       "    </tr>\n",
       "    <tr>\n",
       "      <th>7</th>\n",
       "      <td>77</td>\n",
       "      <td>83</td>\n",
       "      <td>73</td>\n",
       "      <td>60</td>\n",
       "    </tr>\n",
       "    <tr>\n",
       "      <th>8</th>\n",
       "      <td>77</td>\n",
       "      <td>83</td>\n",
       "      <td>73</td>\n",
       "      <td>60</td>\n",
       "    </tr>\n",
       "    <tr>\n",
       "      <th>9</th>\n",
       "      <td>76</td>\n",
       "      <td>83</td>\n",
       "      <td>73</td>\n",
       "      <td>50</td>\n",
       "    </tr>\n",
       "    <tr>\n",
       "      <th>10</th>\n",
       "      <td>76</td>\n",
       "      <td>84</td>\n",
       "      <td>72</td>\n",
       "      <td>50</td>\n",
       "    </tr>\n",
       "    <tr>\n",
       "      <th>11</th>\n",
       "      <td>74</td>\n",
       "      <td>84</td>\n",
       "      <td>72</td>\n",
       "      <td>50</td>\n",
       "    </tr>\n",
       "    <tr>\n",
       "      <th>12</th>\n",
       "      <td>75</td>\n",
       "      <td>84</td>\n",
       "      <td>73</td>\n",
       "      <td>50</td>\n",
       "    </tr>\n",
       "    <tr>\n",
       "      <th>13</th>\n",
       "      <td>77</td>\n",
       "      <td>84</td>\n",
       "      <td>73</td>\n",
       "      <td>80</td>\n",
       "    </tr>\n",
       "  </tbody>\n",
       "</table>\n",
       "</div>"
      ],
      "text/plain": [
       "    humidity  max  min  precips\n",
       "0         76   84   74       50\n",
       "1         74   83   72       20\n",
       "2         75   84   72       20\n",
       "3         74   84   73       20\n",
       "4         75   84   73       20\n",
       "5         73   84   73       20\n",
       "6         74   83   73       50\n",
       "7         77   83   73       60\n",
       "8         77   83   73       60\n",
       "9         76   83   73       50\n",
       "10        76   84   72       50\n",
       "11        74   84   72       50\n",
       "12        75   84   73       50\n",
       "13        77   84   73       80"
      ]
     },
     "execution_count": 55,
     "metadata": {},
     "output_type": "execute_result"
    }
   ],
   "source": [
    "import pandas as pd\n",
    "\n",
    "#Cada lista de itens que temos é passada como parte de um dicionário\n",
    "#Cada chave do dicionário vai se tornar uma coluna no DataFrame, e cada lista se tornará os valores da coluna.\n",
    "\n",
    "\n",
    "weather = pd.DataFrame({\n",
    "        \"max\": days_max, \n",
    "        \"min\": days_min, \n",
    "        \"precips\": precips, \n",
    "        \"humidity\":humidity\n",
    "    })\n",
    "weather\n"
   ]
  },
  {
   "cell_type": "code",
   "execution_count": 64,
   "metadata": {
    "collapsed": false
   },
   "outputs": [
    {
     "data": {
      "text/plain": [
       "0     50\n",
       "1     20\n",
       "2     20\n",
       "3     20\n",
       "4     20\n",
       "5     20\n",
       "6     50\n",
       "7     60\n",
       "8     60\n",
       "9     50\n",
       "10    50\n",
       "11    50\n",
       "12    50\n",
       "13    80\n",
       "Name: precips, dtype: int64"
      ]
     },
     "execution_count": 64,
     "metadata": {},
     "output_type": "execute_result"
    }
   ],
   "source": [
    "temp_nums = weather[\"precips\"]\n",
    "#weather[\"temp_num\"] = temp_nums.astype('double')\n",
    "temp_nums\n"
   ]
  },
  {
   "cell_type": "code",
   "execution_count": 65,
   "metadata": {
    "collapsed": false
   },
   "outputs": [
    {
     "data": {
      "text/plain": [
       "42.857142857142854"
      ]
     },
     "execution_count": 65,
     "metadata": {},
     "output_type": "execute_result"
    }
   ],
   "source": [
    "weather[\"precips\"].mean()"
   ]
  },
  {
   "cell_type": "code",
   "execution_count": null,
   "metadata": {
    "collapsed": true
   },
   "outputs": [],
   "source": []
  }
 ],
 "metadata": {
  "kernelspec": {
   "display_name": "Python 3",
   "language": "python",
   "name": "python3"
  },
  "language_info": {
   "codemirror_mode": {
    "name": "ipython",
    "version": 3
   },
   "file_extension": ".py",
   "mimetype": "text/x-python",
   "name": "python",
   "nbconvert_exporter": "python",
   "pygments_lexer": "ipython3",
   "version": "3.6.0"
  }
 },
 "nbformat": 4,
 "nbformat_minor": 2
}
