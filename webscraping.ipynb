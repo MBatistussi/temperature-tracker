{
 "cells": [
  {
   "cell_type": "code",
   "execution_count": 130,
   "metadata": {
    "collapsed": false
   },
   "outputs": [],
   "source": [
    "import requests\n",
    "from bs4 import BeautifulSoup\n",
    "\n",
    "page = requests.get(\"https://weather.com/weather/tenday/l/BRXX0158:1:BR\") #Natal\n",
    "# https://weather.com/weather/tenday/l/BRXX2877:1:BR Parnamirim\n",
    "soup = BeautifulSoup(page.content, 'html.parser')\n",
    "# page.content\n",
    "# print(page.content)\n",
    "# print(soup.prettify())\n",
    "# soup.find_all('p')\n",
    "\n"
   ]
  },
  {
   "cell_type": "code",
   "execution_count": 131,
   "metadata": {
    "collapsed": false
   },
   "outputs": [
    {
     "name": "stdout",
     "output_type": "stream",
     "text": [
      "85ºF 74ºF 20% 72%\n",
      "84ºF 74ºF 50% 74%\n",
      "83ºF 73ºF 40% 75%\n",
      "84ºF 73ºF 40% 74%\n",
      "84ºF 73ºF 20% 74%\n",
      "84ºF 73ºF 20% 74%\n",
      "83ºF 73ºF 40% 74%\n",
      "83ºF 73ºF 20% 74%\n",
      "83ºF 73ºF 50% 77%\n",
      "83ºF 73ºF 60% 77%\n",
      "84ºF 73ºF 50% 76%\n",
      "84ºF 73ºF 50% 76%\n",
      "84ºF 73ºF 60% 75%\n",
      "84ºF 73ºF 60% 75%\n"
     ]
    }
   ],
   "source": [
    "ten_days = soup.find_all(\"tr\", class_=\"clickable\")\n",
    "ten_days.pop(0)\n",
    "days_max = []\n",
    "days_min = []\n",
    "precips = []\n",
    "humidity = []\n",
    "\n",
    "for day in ten_days:\n",
    "    days_max.append(int(day.find(\"td\", class_=\"temp\").find_all(\"span\")[0].get_text().encode('ascii', 'ignore')))\n",
    "    days_min.append(int(day.find(\"td\", class_=\"temp\").find_all(\"span\")[2].get_text().encode('ascii', 'ignore')))\n",
    "    precips.append(int(day.find(\"td\", class_=\"precip\").find_all(\"span\")[2].get_text().encode('ascii', 'ignore')[:-1]))\n",
    "    humidity.append(int(day.find(\"td\", class_=\"humidity\").find_all(\"span\")[0].get_text().encode('ascii', 'ignore')[:-1]))\n",
    "for i in range(14):\n",
    "    print(str(((days_max[i]-32)/1.8))+\"ºC \" + str(((days_min[i]-32)/1.8))+\"ºC \"+str(precips[i])+\"% \"+str(humidity[i])+\"%\")\n"
   ]
  },
  {
   "cell_type": "code",
   "execution_count": null,
   "metadata": {
    "collapsed": true
   },
   "outputs": [],
   "source": []
  }
 ],
 "metadata": {
  "kernelspec": {
   "display_name": "Python 2",
   "language": "python",
   "name": "python2"
  },
  "language_info": {
   "codemirror_mode": {
    "name": "ipython",
    "version": 2
   },
   "file_extension": ".py",
   "mimetype": "text/x-python",
   "name": "python",
   "nbconvert_exporter": "python",
   "pygments_lexer": "ipython2",
   "version": "2.7.13"
  }
 },
 "nbformat": 4,
 "nbformat_minor": 2
}
